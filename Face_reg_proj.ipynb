{
 "cells": [
  {
   "cell_type": "code",
   "execution_count": 2,
   "metadata": {},
   "outputs": [],
   "source": [
    "import cv2\n",
    "import numpy as np \n",
    "import os"
   ]
  },
  {
   "cell_type": "code",
   "execution_count": 3,
   "metadata": {},
   "outputs": [],
   "source": [
    "#dataprep\n",
    "dataset_path=r'C:\\Users\\Arun\\ML\\data/'\n",
    "faceData=[]\n",
    "labels=[]\n",
    "classid=0\n",
    "name_map={}\n",
    "for f in os.listdir(dataset_path):\n",
    "    if f.endswith('.npy'):\n",
    "        #loading the file\n",
    "        name_map[classid]=f[:-4]\n",
    "        dataItem=np.load(dataset_path + f)\n",
    "        #print(dataItem.shape)#x value\n",
    "        faceData.append(dataItem)\n",
    "        m=dataItem.shape[0]\n",
    "        #yvalue\n",
    "        target=classid*np.ones((m,))\n",
    "        classid+=1\n",
    "        labels.append(target)\n",
    "        \n",
    "        \n",
    "#print(labels)\n",
    "X=np.concatenate(faceData,axis=0)\n",
    "Y=np.concatenate(labels,axis=0).reshape((-1,1))"
   ]
  },
  {
   "cell_type": "code",
   "execution_count": 4,
   "metadata": {},
   "outputs": [
    {
     "name": "stdout",
     "output_type": "stream",
     "text": [
      "(102, 30000) (102, 1)\n",
      "{0: 'gr', 1: 'isha'}\n"
     ]
    }
   ],
   "source": [
    "print(X.shape,Y.shape)\n",
    "print(name_map)"
   ]
  },
  {
   "cell_type": "code",
   "execution_count": 7,
   "metadata": {},
   "outputs": [],
   "source": [
    "#prediction algo using knn\n",
    "def distance(p,q):\n",
    "    return np.sqrt(np.sum((p-q)**2))\n",
    "def knn(x,y,xt,k=5):\n",
    "    m=x.shape[0]\n",
    "    dlist=[]\n",
    "    for i in range(m):\n",
    "        d=distance(x[i],xt)\n",
    "        dlist.append((d,y[i]))\n",
    "    dlist=sorted(dlist)\n",
    "    dlist=np.array(dlist[:k])\n",
    "    labels=dlist[:,1]\n",
    "    labels,counts=np.unique(labels,return_counts=True)\n",
    "    idx=counts.argmax()\n",
    "    pred=labels[idx]\n",
    "    #print(labels,counts)\n",
    "    return int(pred)\n",
    "\n",
    "model2=cv2.CascadeClassifier(\"haarcascade_frontalface_alt.xml\")\n",
    "cam=cv2.VideoCapture(0)\n",
    "offset=20\n",
    "while True:\n",
    "    success, image = cam.read()\n",
    "    if not success:\n",
    "        print('Reading Camera Failed')\n",
    "        break\n",
    "    \n",
    "    faces = model2.detectMultiScale(image, 1.3, 5)  # hyperparameters\n",
    "     #render a box around each face and predict its face\n",
    "    for f in faces:\n",
    "        x, y, w, h = f \n",
    "        cv2.rectangle(image, (x, y), (x + w, y + h), (0, 255, 0), 2)\n",
    "        \n",
    "        cropped_face = image[y - offset:y + h + offset, x - offset:x + w + offset]  # crop and save largest face    \n",
    "        cropped_face = cv2.resize(cropped_face, (100, 100))\n",
    "        \n",
    "        \n",
    "        #predict name using knn\n",
    "        class_predicted=knn(X,Y,cropped_face.flatten())\n",
    "        name_predicted=name_map[class_predicted]\n",
    "        \n",
    "        cv2.putText(image,name_predicted,(x,y-10),cv2.FONT_HERSHEY_SIMPLEX,1,(255,0,0),2,cv2.LINE_AA)\n",
    "        cv2.rectangle(image, (x, y), (x + w, y + h), (0, 255, 0), 2)\n",
    "    cv2.imshow(\"prediction window\",image)    \n",
    "    key = cv2.waitKey(1)\n",
    "    if key == ord('q'):\n",
    "        break\n",
    "# Release the camera object and destroy the windows\n",
    "cam.release()\n",
    "cv2.destroyAllWindows()"
   ]
  },
  {
   "cell_type": "code",
   "execution_count": null,
   "metadata": {},
   "outputs": [],
   "source": []
  },
  {
   "cell_type": "code",
   "execution_count": null,
   "metadata": {},
   "outputs": [],
   "source": []
  },
  {
   "cell_type": "code",
   "execution_count": null,
   "metadata": {},
   "outputs": [],
   "source": []
  },
  {
   "cell_type": "code",
   "execution_count": null,
   "metadata": {},
   "outputs": [],
   "source": []
  }
 ],
 "metadata": {
  "kernelspec": {
   "display_name": "Python 3",
   "language": "python",
   "name": "python3"
  },
  "language_info": {
   "codemirror_mode": {
    "name": "ipython",
    "version": 3
   },
   "file_extension": ".py",
   "mimetype": "text/x-python",
   "name": "python",
   "nbconvert_exporter": "python",
   "pygments_lexer": "ipython3",
   "version": "3.8.3"
  }
 },
 "nbformat": 4,
 "nbformat_minor": 4
}
